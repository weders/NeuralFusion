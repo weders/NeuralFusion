{
 "cells": [
  {
   "cell_type": "code",
   "execution_count": 18,
   "metadata": {},
   "outputs": [],
   "source": [
    "import os\n",
    "import h5py\n",
    "import graphics\n",
    "import glob\n",
    "\n",
    "import meshplot as mp\n",
    "import numpy as np"
   ]
  },
  {
   "cell_type": "code",
   "execution_count": 19,
   "metadata": {},
   "outputs": [],
   "source": [
    "from ipywidgets import interact, interactive, fixed, interact_manual\n",
    "import ipywidgets as widgets"
   ]
  },
  {
   "cell_type": "code",
   "execution_count": 20,
   "metadata": {},
   "outputs": [],
   "source": [
    "from skimage.measure import marching_cubes"
   ]
  },
  {
   "cell_type": "code",
   "execution_count": 21,
   "metadata": {},
   "outputs": [],
   "source": [
    "import sys\n",
    "sys.path.append('..')\n",
    "\n",
    "from utils.loading import load_config_from_json\n",
    "from training.utils import get_dataset"
   ]
  },
  {
   "cell_type": "code",
   "execution_count": 22,
   "metadata": {},
   "outputs": [],
   "source": [
    "ROOT_DIR = \"../experiments\""
   ]
  },
  {
   "cell_type": "code",
   "execution_count": 23,
   "metadata": {},
   "outputs": [
    {
     "data": {
      "application/vnd.jupyter.widget-view+json": {
       "model_id": "baac13eebaa84e1c83081523ab01cef1",
       "version_major": 2,
       "version_minor": 0
      },
      "text/plain": [
       "interactive(children=(Dropdown(description='experiment', options=('shapenet_noise_005', 'modelnet_outliers_99'…"
      ]
     },
     "metadata": {},
     "output_type": "display_data"
    }
   ],
   "source": [
    "@interact\n",
    "def select_experiment(experiment=os.listdir(ROOT_DIR)):\n",
    "    global selected_experiment\n",
    "    global experiment_path\n",
    "    \n",
    "    selected_experiment = experiment\n",
    "    experiment_path = os.path.join(ROOT_DIR, experiment)"
   ]
  },
  {
   "cell_type": "code",
   "execution_count": 29,
   "metadata": {},
   "outputs": [
    {
     "data": {
      "application/vnd.jupyter.widget-view+json": {
       "model_id": "8e89f15e89ac4aecbe3b80f231d3e21c",
       "version_major": 2,
       "version_minor": 0
      },
      "text/plain": [
       "interactive(children=(Dropdown(description='version', options=('version_0', '0', 'version_1', 'version_2', '2'…"
      ]
     },
     "metadata": {},
     "output_type": "display_data"
    }
   ],
   "source": [
    "@interact\n",
    "def select_version(version=os.listdir(experiment_path)):\n",
    "    global selected_version\n",
    "    global version_path\n",
    "    \n",
    "    selected_version = version\n",
    "    version_path = os.path.join(experiment_path, version)"
   ]
  },
  {
   "cell_type": "code",
   "execution_count": 30,
   "metadata": {},
   "outputs": [
    {
     "data": {
      "application/vnd.jupyter.widget-view+json": {
       "model_id": "a09efb6593014d98a80308230d7aa4a3",
       "version_major": 2,
       "version_minor": 0
      },
      "text/plain": [
       "interactive(children=(Dropdown(description='stage', options=('last', 'best'), value='last'), Output()), _dom_c…"
      ]
     },
     "metadata": {},
     "output_type": "display_data"
    }
   ],
   "source": [
    "@interact\n",
    "def select_stage(stage=os.listdir(os.path.join(version_path, 'scenes'))):\n",
    "    \n",
    "    global selected_stage \n",
    "    global stage_path\n",
    "    \n",
    "    selected_stage = stage\n",
    "    stage_path = os.path.join(version_path, 'scenes', stage)"
   ]
  },
  {
   "cell_type": "code",
   "execution_count": 31,
   "metadata": {},
   "outputs": [
    {
     "data": {
      "application/vnd.jupyter.widget-view+json": {
       "model_id": "6854409a994a4ebca879d32b14952962",
       "version_major": 2,
       "version_minor": 0
      },
      "text/plain": [
       "interactive(children=(Dropdown(description='mode', options=('val', 'train', 'test'), value='val'), Output()), …"
      ]
     },
     "metadata": {},
     "output_type": "display_data"
    }
   ],
   "source": [
    "@interact\n",
    "def select_mode(mode=os.listdir(stage_path)):\n",
    "    global selected_mode\n",
    "    global result_path\n",
    "    \n",
    "    selected_mode = mode\n",
    "    result_path = os.path.join(stage_path, mode)"
   ]
  },
  {
   "cell_type": "code",
   "execution_count": 32,
   "metadata": {},
   "outputs": [],
   "source": [
    "def extract_scenes(result_path):\n",
    "    scenes = glob.glob(os.path.join(result_path, '*.tsdf.hf5'))\n",
    "    scenes = [s.split('/')[-1].replace('.tsdf.hf5', '') for s in scenes]\n",
    "    return scenes\n",
    "\n",
    "def load_grid(path):\n",
    "    \n",
    "    with h5py.File(path + '.tsdf.hf5', 'r') as file:\n",
    "        tsdf = file['TSDF'][:][0]\n",
    "    return tsdf\n",
    "\n",
    "def load_dataset(path, mode, data_path=None):\n",
    "    config = load_config_from_json(path)\n",
    "    \n",
    "    if data_path is not None:\n",
    "        config.SETTINGS.data_path = data_path\n",
    "    config.DATA.train_list = '../' + config.DATA.train_list\n",
    "    config.DATA.val_list = '../' + config.DATA.val_list\n",
    "    config.DATA.test_list = '../' + config.DATA.test_list\n",
    "\n",
    "    dataset = get_dataset(config, mode)\n",
    "    return dataset\n",
    "\n",
    "def load_groundtruth(dataset, scene):\n",
    "    grid = dataset.get_grid(scene)\n",
    "    grid.transform(\"normal\")\n",
    "    grid.volume *= grid.resolution\n",
    "    return grid.volume\n",
    "\n",
    "scenes = extract_scenes(result_path)\n",
    "# dataset = load_dataset(version_path, 'test', data_path='/media/weders/HV620S/data/modelnet/processed')"
   ]
  },
  {
   "cell_type": "code",
   "execution_count": 33,
   "metadata": {
    "scrolled": true
   },
   "outputs": [
    {
     "data": {
      "application/vnd.jupyter.widget-view+json": {
       "model_id": "186274b90aba4044b28f843c971c5bb5",
       "version_major": 2,
       "version_minor": 0
      },
      "text/plain": [
       "interactive(children=(Dropdown(description='scene', options=('ignatius', 'family'), value='ignatius'), Output(…"
      ]
     },
     "metadata": {},
     "output_type": "display_data"
    }
   ],
   "source": [
    "@interact\n",
    "def visualize_scene(scene=scenes):\n",
    "    prediction = load_grid(os.path.join(result_path, scene))\n",
    "    # groundtruth = load_groundtruth(dataset, scene.replace('.', '/'))\n",
    "    print(\"loaded\")\n",
    "    verts_est, faces_est, _, _ = marching_cubes(prediction, level=0.)\n",
    "    #verts_gt, faces_gt, _, _ = marching_cubes(groundtruth, level=0.)\n",
    "    \n",
    "    p = mp.subplot(verts_est, faces_est, s=[1, 2, 0])\n",
    "    # p = mp.subplot(verts_gt, faces_gt, s=[1, 2, 1], data=p)\n",
    "    \n",
    "    occupied_est = prediction < 0.\n",
    "    # occupied_gt = (groundtruth < 0.) & (groundtruth > -0.02)\n",
    "    \n",
    "    # intersection = occupied_est & occupied_gt\n",
    "    # union = occupied_est | occupied_gt\n",
    "\n",
    "    # print('IoU:', intersection.sum() / union.sum())\n",
    "    \n",
    "    return"
   ]
  },
  {
   "cell_type": "code",
   "execution_count": null,
   "metadata": {},
   "outputs": [],
   "source": []
  },
  {
   "cell_type": "code",
   "execution_count": null,
   "metadata": {},
   "outputs": [],
   "source": []
  }
 ],
 "metadata": {
  "kernelspec": {
   "display_name": "inspection",
   "language": "python",
   "name": "inspection"
  },
  "language_info": {
   "codemirror_mode": {
    "name": "ipython",
    "version": 3
   },
   "file_extension": ".py",
   "mimetype": "text/x-python",
   "name": "python",
   "nbconvert_exporter": "python",
   "pygments_lexer": "ipython3",
   "version": "3.7.8"
  }
 },
 "nbformat": 4,
 "nbformat_minor": 1
}
